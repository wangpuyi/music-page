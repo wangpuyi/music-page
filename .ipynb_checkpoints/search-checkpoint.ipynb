{
 "cells": [
  {
   "cell_type": "markdown",
   "metadata": {},
   "source": [
    "# 0. 导入相关包"
   ]
  },
  {
   "cell_type": "markdown",
   "metadata": {},
   "source": [
    "# 1. 使用Python连接ES"
   ]
  },
  {
   "cell_type": "code",
   "execution_count": 12,
   "metadata": {},
   "outputs": [],
   "source": [
    "import json\n",
    "import mysql\n",
    "from elasticsearch import Elasticsearch"
   ]
  },
  {
   "cell_type": "code",
   "execution_count": 13,
   "metadata": {},
   "outputs": [],
   "source": [
    "es = Elasticsearch()"
   ]
  },
  {
   "cell_type": "code",
   "execution_count": null,
   "metadata": {},
   "outputs": [],
   "source": []
  },
  {
   "cell_type": "markdown",
   "metadata": {},
   "source": [
    "+ 检测是否连接成功"
   ]
  },
  {
   "cell_type": "code",
   "execution_count": 14,
   "metadata": {},
   "outputs": [
    {
     "name": "stdout",
     "output_type": "stream",
     "text": [
      "True\n"
     ]
    }
   ],
   "source": [
    "print(es.ping())"
   ]
  },
  {
   "cell_type": "code",
   "execution_count": 48,
   "metadata": {},
   "outputs": [],
   "source": [
    "# mysql读取数据\n",
    "def get_rawdata():\n",
    "    import mysql.connector\n",
    "    config = {\n",
    "        'host' : 'rm-uf6q2j49y3xo8ny5hno.mysql.rds.aliyuncs.com',\n",
    "        'user' : 'music_root',\n",
    "        'password' : 'DIANgongdao123root',\n",
    "        'port' : 3306,\n",
    "        'database' : 'netease',\n",
    "        'charset' : 'utf8'\n",
    "    }\n",
    "    cnn = mysql.connector.connect(**config) # 建立MySQL连接\n",
    "    cursor = cnn.cursor() # 获得游标\n",
    "    cursor.execute('SELECT author FROM taglist')\n",
    "    result = cursor.fetchall()\n",
    "    print(result)\n",
    "    cursor.close() # 关闭游标\n",
    "    cnn.close() # 关闭连接\n",
    "    return result"
   ]
  },
  {
   "cell_type": "code",
   "execution_count": 49,
   "metadata": {},
   "outputs": [
    {
     "name": "stdout",
     "output_type": "stream",
     "text": [
      "[('ALLIN_MUSIC',), ('格林岛屿',), ('一许桃花醉如烟',), ('音乐想象家',), ('Rootskool',), ('大卫鲍伊去了火星',), ('读行者LO',), ('情思天鹅',), ('孩子吃嘛找嘛去-',), ('呼啸雪夜',), ('dingoXXL',), ('alasye',), ('mayuko然',), ('愿深爱如长风',), ('云音乐官方歌单',), ('c耗尽-_',), ('云音乐官方歌单',), ('MJ-icon',), ('铭心啊_',), ('Top嘉熙',), ('马翊辰',), ('白净亭',), ('跨过凌晨',), ('活在水里的猫',), ('嗯哼我的蛋挞呢',), ('YouTube全球音乐',), ('梧桐路的卖花小摊',), ('你今天真真真好看',), ('云音乐官方歌单',), ('网易云贝推歌',), ('砚青钦墨',), ('我还记得_R',), ('Thinkgamer',), ('AgoNyDRan',), ('旧时里梦丶',), ('螚安Vivienne',), ('后原',), ('云音乐官方歌单',), ('空气很颓废',), ('YouTube热门日推',), ('爱吃麻酱的甜菜公主',), ('你像风一样吹过来',), ('网易云音乐',), ('情思天鹅',), ('梦被',), ('那年盛夏的ta',), ('不如和我一起虚度时光',), ('云音乐官方歌单',), ('-甜饼怪BABE-',), ('浩瑄Acme',), ('芳心收集人士',), ('卡拉布拉拉',), ('四季里的懒睡猫',), ('云音乐官方歌单',), ('倦了诗姝',), ('云音乐官方歌单',), ('做他手心里的宝',), ('云音乐官方歌单',), ('云音乐官方歌单',), ('云音乐官方歌单',), ('chelife',), ('云音乐官方歌单',), ('小刘再也不熬夜了',), ('白鸟星野',), ('倾天奏梦',), ('云音乐官方歌单',), ('蛋壳Maxd',), ('原创君',), ('chelife',), ('贝克克y',), ('月亮藏不住的小情绪',), ('芳心收集人士',), ('月亮藏不住的小情绪',), ('云音乐官方歌单',), ('嘿-Tedua',), ('云音乐官方歌单',), ('回忆哆啦没有A梦',), ('芳心收集人士',), ('月亮藏不住的小情绪',), ('Just-7ccc',), ('这条平凡的狗_QwQ',), ('Just-7ccc',), ('云音乐官方歌单',), ('云音乐官方歌单',), ('云音乐官方歌单',), ('云音乐官方歌单',), ('云音乐官方歌单',), ('云音乐官方歌单',), ('云音乐官方歌单',), ('云音乐官方歌单',), ('云音乐官方歌单',), ('云音乐官方歌单',), ('倾天奏梦',), ('芳心收集人士',), ('Last_fifty',), ('内啡肽_Fentany丨',), ('贝克克y',), ('贝克克y',), ('贝克克y',), ('音乐想象家',), ('云音乐官方歌单',), ('贝克克y',), ('芳心收集人士',), ('蛋壳Maxd',), ('贝克克y',), ('云音乐官方歌单',), ('云音乐官方歌单',), ('贝克克y',), ('贝克克y',), ('云音乐官方歌单',), ('肆玖音乐',), ('云音乐官方歌单',), ('网易云音乐',), ('云音乐官方歌单',), ('云音乐官方歌单',), ('Karollkk7',), ('云音乐官方歌单',), ('AdeeL丨',), ('Karollkk7',), ('月亮藏不住的小情绪',), ('是清澄阿',), ('迷藏lb',), ('买断离手',), ('网易云音乐',), ('Becauseoflove-',)]\n",
      "[('ALLIN_MUSIC',), ('格林岛屿',), ('一许桃花醉如烟',), ('音乐想象家',), ('Rootskool',), ('大卫鲍伊去了火星',), ('读行者LO',), ('情思天鹅',), ('孩子吃嘛找嘛去-',), ('呼啸雪夜',), ('dingoXXL',), ('alasye',), ('mayuko然',), ('愿深爱如长风',), ('云音乐官方歌单',), ('c耗尽-_',), ('云音乐官方歌单',), ('MJ-icon',), ('铭心啊_',), ('Top嘉熙',), ('马翊辰',), ('白净亭',), ('跨过凌晨',), ('活在水里的猫',), ('嗯哼我的蛋挞呢',), ('YouTube全球音乐',), ('梧桐路的卖花小摊',), ('你今天真真真好看',), ('云音乐官方歌单',), ('网易云贝推歌',), ('砚青钦墨',), ('我还记得_R',), ('Thinkgamer',), ('AgoNyDRan',), ('旧时里梦丶',), ('螚安Vivienne',), ('后原',), ('云音乐官方歌单',), ('空气很颓废',), ('YouTube热门日推',), ('爱吃麻酱的甜菜公主',), ('你像风一样吹过来',), ('网易云音乐',), ('情思天鹅',), ('梦被',), ('那年盛夏的ta',), ('不如和我一起虚度时光',), ('云音乐官方歌单',), ('-甜饼怪BABE-',), ('浩瑄Acme',), ('芳心收集人士',), ('卡拉布拉拉',), ('四季里的懒睡猫',), ('云音乐官方歌单',), ('倦了诗姝',), ('云音乐官方歌单',), ('做他手心里的宝',), ('云音乐官方歌单',), ('云音乐官方歌单',), ('云音乐官方歌单',), ('chelife',), ('云音乐官方歌单',), ('小刘再也不熬夜了',), ('白鸟星野',), ('倾天奏梦',), ('云音乐官方歌单',), ('蛋壳Maxd',), ('原创君',), ('chelife',), ('贝克克y',), ('月亮藏不住的小情绪',), ('芳心收集人士',), ('月亮藏不住的小情绪',), ('云音乐官方歌单',), ('嘿-Tedua',), ('云音乐官方歌单',), ('回忆哆啦没有A梦',), ('芳心收集人士',), ('月亮藏不住的小情绪',), ('Just-7ccc',), ('这条平凡的狗_QwQ',), ('Just-7ccc',), ('云音乐官方歌单',), ('云音乐官方歌单',), ('云音乐官方歌单',), ('云音乐官方歌单',), ('云音乐官方歌单',), ('云音乐官方歌单',), ('云音乐官方歌单',), ('云音乐官方歌单',), ('云音乐官方歌单',), ('云音乐官方歌单',), ('倾天奏梦',), ('芳心收集人士',), ('Last_fifty',), ('内啡肽_Fentany丨',), ('贝克克y',), ('贝克克y',), ('贝克克y',), ('音乐想象家',), ('云音乐官方歌单',), ('贝克克y',), ('芳心收集人士',), ('蛋壳Maxd',), ('贝克克y',), ('云音乐官方歌单',), ('云音乐官方歌单',), ('贝克克y',), ('贝克克y',), ('云音乐官方歌单',), ('肆玖音乐',), ('云音乐官方歌单',), ('网易云音乐',), ('云音乐官方歌单',), ('云音乐官方歌单',), ('Karollkk7',), ('云音乐官方歌单',), ('AdeeL丨',), ('Karollkk7',), ('月亮藏不住的小情绪',), ('是清澄阿',), ('迷藏lb',), ('买断离手',), ('网易云音乐',), ('Becauseoflove-',)]\n"
     ]
    }
   ],
   "source": [
    "result = get_rawdata()\n",
    "# f = open('log.txt','w',encoding=\"utf-8\")\n",
    "# for i in range(10000):\n",
    "#     for j in range(6):\n",
    "#         f.write(str(result[i][j]))\n",
    "# f.close()\n",
    "print(result)"
   ]
  },
  {
   "cell_type": "code",
   "execution_count": null,
   "metadata": {},
   "outputs": [],
   "source": []
  },
  {
   "cell_type": "markdown",
   "metadata": {},
   "source": [
    "# 2. 索引操作"
   ]
  },
  {
   "cell_type": "markdown",
   "metadata": {},
   "source": [
    "## 2.1 新建索引"
   ]
  },
  {
   "cell_type": "code",
   "execution_count": 17,
   "metadata": {},
   "outputs": [],
   "source": [
    "mystop = {#以“|”为分隔\n",
    "  \"settings\": {\n",
    "    \"analysis\": {\n",
    "      \"analyzer\": {\n",
    "        \"my_stop_analyzer\": {\n",
    "          \"type\": \"stop\",\n",
    "          \"stopwords\": [\"|\"]\n",
    "        }\n",
    "      }\n",
    "    }\n",
    "  }\n",
    "}"
   ]
  },
  {
   "cell_type": "markdown",
   "metadata": {},
   "source": [
    "### 2.1.1 定义mapping"
   ]
  },
  {
   "cell_type": "code",
   "execution_count": 18,
   "metadata": {},
   "outputs": [],
   "source": [
    "mappings = {\n",
    "    \"mappings\" : {\n",
    "      \"properties\" : {\n",
    "        \"album_id\" : {\n",
    "            \"type\" : \"long\",\n",
    "        },\n",
    "        \"url\" : {\n",
    "          \"type\" : \"text\",\n",
    "        },\n",
    "        \"name\" : {\n",
    "          \"type\" : \"text\",\n",
    "        },\n",
    "        \"author\" : {\n",
    "            \"type\" : \"text\",\n",
    "        },\n",
    "        \"views\" : {\n",
    "            \"type\" : \"long\",\n",
    "        },\n",
    "        \"subscription\" : {\n",
    "            \"type\" : \"long\",\n",
    "        },\n",
    "        \"label\" : {\n",
    "          \"type\" : \"text\",\n",
    "        },\n",
    "        \"description\" : {\n",
    "          \"type\" : \"text\",\n",
    "        },\n",
    "        \"amount\" : {\n",
    "          \"type\" : \"long\",\n",
    "        },\n",
    "        \"nameofmusic\" : {\n",
    "          \"type\" : \"text\",\n",
    "        }\n",
    "      }\n",
    "    }\n",
    "}"
   ]
  },
  {
   "cell_type": "markdown",
   "metadata": {},
   "source": [
    "### 2.1.2 依据mapping创建索引"
   ]
  },
  {
   "cell_type": "code",
   "execution_count": 21,
   "metadata": {},
   "outputs": [],
   "source": [
    "res = es.indices.create(index ='index_music',body =mappings)"
   ]
  },
  {
   "cell_type": "markdown",
   "metadata": {},
   "source": [
    "## 2.2 删除索引"
   ]
  },
  {
   "cell_type": "code",
   "execution_count": 20,
   "metadata": {},
   "outputs": [
    {
     "data": {
      "text/plain": [
       "{'acknowledged': True}"
      ]
     },
     "execution_count": 20,
     "metadata": {},
     "output_type": "execute_result"
    }
   ],
   "source": [
    "es.indices.delete(\"index_music\")"
   ]
  },
  {
   "cell_type": "markdown",
   "metadata": {},
   "source": [
    "# 3. 文档操作"
   ]
  },
  {
   "cell_type": "markdown",
   "metadata": {},
   "source": [
    "## 3.1 插入文档"
   ]
  },
  {
   "cell_type": "code",
   "execution_count": 22,
   "metadata": {},
   "outputs": [],
   "source": [
    "for i in range(125):\n",
    "    es.index(index=\"index_music\", id=i,body={\"album_id\":result[i][0],\"url\":result[i][1], \"name\":result[i][2],  \"author\":result[i][3],\"views\":result[i][4],\"subscription\":result[i][5],\"label\":result[i][8],\"description\":result[i][9],\"amount\":result[i][10],\"nameofmusic\":result[i][11]})"
   ]
  },
  {
   "cell_type": "markdown",
   "metadata": {},
   "source": [
    "## 3.2 查询文档"
   ]
  },
  {
   "cell_type": "code",
   "execution_count": 23,
   "metadata": {},
   "outputs": [
    {
     "data": {
      "text/plain": [
       "{'_index': 'index_music',\n",
       " '_type': '_doc',\n",
       " '_id': '0',\n",
       " '_version': 1,\n",
       " '_seq_no': 0,\n",
       " '_primary_term': 1,\n",
       " 'found': True,\n",
       " '_source': {'album_id': '2058369193',\n",
       "  'url': 'https://music.163.com/playlist?id=2058369193',\n",
       "  'name': '华语伤感丨泪流不止，只因想你',\n",
       "  'author': 'ALLIN_MUSIC',\n",
       "  'views': '210391',\n",
       "  'subscription': '2243',\n",
       "  'label': '华语|伤感|流行',\n",
       "  'description': '介绍：\\n如果有一天，我忘了全世界，但我一定会记得你。我会在某一个黄昏，像往常一样，走到你面前，告诉你，爱可以穿越时光的考验，在记忆中盛开一世。\\n',\n",
       "  'amount': '60',\n",
       "  'nameofmusic': '在意这件事|唯一|一吻之间|我怀念的|忘了去记得|最初的温柔|一个人失忆|就这样|那些年|没关系'}}"
      ]
     },
     "execution_count": 23,
     "metadata": {},
     "output_type": "execute_result"
    }
   ],
   "source": [
    "es.get(index=\"index_music\", id=0, ignore=404)"
   ]
  },
  {
   "cell_type": "code",
   "execution_count": 24,
   "metadata": {},
   "outputs": [],
   "source": [
    "# json格式化显示函数\n",
    "def json_print(string):\n",
    "    print(json.dumps(string, sort_keys=True, indent=4, separators=(',', ':')))\n",
    "    return"
   ]
  },
  {
   "cell_type": "code",
   "execution_count": 34,
   "metadata": {},
   "outputs": [
    {
     "name": "stdout",
     "output_type": "stream",
     "text": [
      "{\n",
      "    \"_id\":\"0\",\n",
      "    \"_index\":\"index_music\",\n",
      "    \"_primary_term\":1,\n",
      "    \"_seq_no\":0,\n",
      "    \"_source\":{\n",
      "        \"album_id\":\"2058369193\",\n",
      "        \"amount\":\"60\",\n",
      "        \"author\":\"ALLIN_MUSIC\",\n",
      "        \"description\":\"\\u4ecb\\u7ecd\\uff1a\\n\\u5982\\u679c\\u6709\\u4e00\\u5929\\uff0c\\u6211\\u5fd8\\u4e86\\u5168\\u4e16\\u754c\\uff0c\\u4f46\\u6211\\u4e00\\u5b9a\\u4f1a\\u8bb0\\u5f97\\u4f60\\u3002\\u6211\\u4f1a\\u5728\\u67d0\\u4e00\\u4e2a\\u9ec4\\u660f\\uff0c\\u50cf\\u5f80\\u5e38\\u4e00\\u6837\\uff0c\\u8d70\\u5230\\u4f60\\u9762\\u524d\\uff0c\\u544a\\u8bc9\\u4f60\\uff0c\\u7231\\u53ef\\u4ee5\\u7a7f\\u8d8a\\u65f6\\u5149\\u7684\\u8003\\u9a8c\\uff0c\\u5728\\u8bb0\\u5fc6\\u4e2d\\u76db\\u5f00\\u4e00\\u4e16\\u3002\\n\",\n",
      "        \"label\":\"\\u534e\\u8bed|\\u4f24\\u611f|\\u6d41\\u884c\",\n",
      "        \"name\":\"\\u534e\\u8bed\\u4f24\\u611f\\u4e28\\u6cea\\u6d41\\u4e0d\\u6b62\\uff0c\\u53ea\\u56e0\\u60f3\\u4f60\",\n",
      "        \"nameofmusic\":\"\\u5728\\u610f\\u8fd9\\u4ef6\\u4e8b|\\u552f\\u4e00|\\u4e00\\u543b\\u4e4b\\u95f4|\\u6211\\u6000\\u5ff5\\u7684|\\u5fd8\\u4e86\\u53bb\\u8bb0\\u5f97|\\u6700\\u521d\\u7684\\u6e29\\u67d4|\\u4e00\\u4e2a\\u4eba\\u5931\\u5fc6|\\u5c31\\u8fd9\\u6837|\\u90a3\\u4e9b\\u5e74|\\u6ca1\\u5173\\u7cfb\",\n",
      "        \"subscription\":\"2243\",\n",
      "        \"url\":\"https://music.163.com/playlist?id=2058369193\",\n",
      "        \"views\":\"210391\"\n",
      "    },\n",
      "    \"_type\":\"_doc\",\n",
      "    \"_version\":1,\n",
      "    \"found\":true\n",
      "}\n",
      "<class 'str'>\n"
     ]
    }
   ],
   "source": [
    "res = es.get(index=\"index_music\", id=0, ignore=404)\n",
    "json_print(res)\n",
    "print(type(['_source'][0]))"
   ]
  },
  {
   "cell_type": "markdown",
   "metadata": {},
   "source": [
    "## 3.3 修改（更新）文档"
   ]
  },
  {
   "cell_type": "code",
   "execution_count": 98,
   "metadata": {},
   "outputs": [
    {
     "name": "stderr",
     "output_type": "stream",
     "text": [
      "C:\\Users\\BR\\AppData\\Local\\Temp/ipykernel_8780/896306200.py:10: DeprecationWarning: The 'body' parameter is deprecated for the 'update' API and will be removed in a future version. Instead use API parameters directly. See https://github.com/elastic/elasticsearch-py/issues/1698 for more information\n",
      "  res = es.update(index=\"index_paper\", id=i, body={\"doc\":{\"authors\": authors,\"keywords\": keywords}})\n"
     ]
    }
   ],
   "source": [
    "# for i in range(10000):\n",
    "#     authors = \"\"\n",
    "#     keywords = \"\"\n",
    "#     for author in result[i][3]:\n",
    "#         authors += author\n",
    "#         authors += \" \"\n",
    "#     for keyword in result[i][4]:\n",
    "#         keywords += keyword\n",
    "#         keywords += \" \"\n",
    "#     res = es.update(index=\"index_paper\", id=i, body={\"doc\":{\"authors\": authors,\"keywords\": keywords}})\n",
    "# json_print(res)"
   ]
  },
  {
   "cell_type": "code",
   "execution_count": 36,
   "metadata": {},
   "outputs": [
    {
     "name": "stdout",
     "output_type": "stream",
     "text": [
      "{\n",
      "    \"_id\":\"0\",\n",
      "    \"_index\":\"index_test\",\n",
      "    \"_primary_term\":2,\n",
      "    \"_seq_no\":0,\n",
      "    \"_source\":{\n",
      "        \"age\":20,\n",
      "        \"hobby\":\"football rap\",\n",
      "        \"name\":\"Tom\"\n",
      "    },\n",
      "    \"_type\":\"_doc\",\n",
      "    \"_version\":1,\n",
      "    \"found\":true\n",
      "}\n"
     ]
    }
   ],
   "source": [
    "res = es.get(index=\"index_test\", id=0, ignore=404)\n",
    "json_print(res)"
   ]
  },
  {
   "cell_type": "markdown",
   "metadata": {},
   "source": [
    "## 3.4 删除文档"
   ]
  },
  {
   "cell_type": "code",
   "execution_count": 31,
   "metadata": {},
   "outputs": [
    {
     "data": {
      "text/plain": [
       "{'_index': 'index_test',\n",
       " '_type': '_doc',\n",
       " '_id': '0',\n",
       " '_version': 3,\n",
       " 'result': 'deleted',\n",
       " '_shards': {'total': 2, 'successful': 1, 'failed': 0},\n",
       " '_seq_no': 2,\n",
       " '_primary_term': 1}"
      ]
     },
     "execution_count": 31,
     "metadata": {},
     "output_type": "execute_result"
    }
   ],
   "source": [
    "es.delete(index=\"index_test\", id=0)"
   ]
  },
  {
   "cell_type": "code",
   "execution_count": 32,
   "metadata": {},
   "outputs": [
    {
     "name": "stdout",
     "output_type": "stream",
     "text": [
      "{\n",
      "    \"_id\":\"0\",\n",
      "    \"_index\":\"index_test\",\n",
      "    \"_type\":\"_doc\",\n",
      "    \"found\":false\n",
      "}\n"
     ]
    }
   ],
   "source": [
    "res = es.get(index=\"index_test\", id=0, ignore=404)\n",
    "json_print(res)"
   ]
  },
  {
   "cell_type": "markdown",
   "metadata": {},
   "source": [
    "## 3.5 bulk批量操作"
   ]
  },
  {
   "cell_type": "code",
   "execution_count": 33,
   "metadata": {},
   "outputs": [],
   "source": [
    "doc = [\n",
    "     {\"create\": {\"_index\": \"index_test\", '_id': 0 }},\n",
    "     {'name': 'Tom', 'age': 20, 'hobby': 'football rap'},\n",
    "     {\"create\": {\"_index\": \"index_test\",  '_id': 1 }},\n",
    "     {'name': 'Jerry', 'age': 29, 'hobby': 'basketball sing football'},\n",
    "     {\"create\": {\"_index\": \"index_test\",  '_id': 2}},\n",
    "     {'name': 'Bob', 'age': 12, 'hobby': 'football dance'},\n",
    "     {\"create\": {\"_index\": \"index_test\",  '_id': 3}},\n",
    "     {'name': 'Amy', 'age': 24, 'hobby': 'sing dance'},\n",
    "     {\"create\": {\"_index\": \"index_test\",  '_id': 4}},\n",
    "     {'name': 'Jack', 'age': 19, 'hobby': 'sing'},\n",
    " ]"
   ]
  },
  {
   "cell_type": "code",
   "execution_count": 34,
   "metadata": {},
   "outputs": [
    {
     "name": "stdout",
     "output_type": "stream",
     "text": [
      "{\n",
      "    \"errors\":false,\n",
      "    \"items\":[\n",
      "        {\n",
      "            \"create\":{\n",
      "                \"_id\":\"0\",\n",
      "                \"_index\":\"index_test\",\n",
      "                \"_primary_term\":1,\n",
      "                \"_seq_no\":3,\n",
      "                \"_shards\":{\n",
      "                    \"failed\":0,\n",
      "                    \"successful\":1,\n",
      "                    \"total\":2\n",
      "                },\n",
      "                \"_type\":\"_doc\",\n",
      "                \"_version\":4,\n",
      "                \"result\":\"created\",\n",
      "                \"status\":201\n",
      "            }\n",
      "        },\n",
      "        {\n",
      "            \"create\":{\n",
      "                \"_id\":\"1\",\n",
      "                \"_index\":\"index_test\",\n",
      "                \"_primary_term\":1,\n",
      "                \"_seq_no\":4,\n",
      "                \"_shards\":{\n",
      "                    \"failed\":0,\n",
      "                    \"successful\":1,\n",
      "                    \"total\":2\n",
      "                },\n",
      "                \"_type\":\"_doc\",\n",
      "                \"_version\":1,\n",
      "                \"result\":\"created\",\n",
      "                \"status\":201\n",
      "            }\n",
      "        },\n",
      "        {\n",
      "            \"create\":{\n",
      "                \"_id\":\"2\",\n",
      "                \"_index\":\"index_test\",\n",
      "                \"_primary_term\":1,\n",
      "                \"_seq_no\":5,\n",
      "                \"_shards\":{\n",
      "                    \"failed\":0,\n",
      "                    \"successful\":1,\n",
      "                    \"total\":2\n",
      "                },\n",
      "                \"_type\":\"_doc\",\n",
      "                \"_version\":1,\n",
      "                \"result\":\"created\",\n",
      "                \"status\":201\n",
      "            }\n",
      "        },\n",
      "        {\n",
      "            \"create\":{\n",
      "                \"_id\":\"3\",\n",
      "                \"_index\":\"index_test\",\n",
      "                \"_primary_term\":1,\n",
      "                \"_seq_no\":6,\n",
      "                \"_shards\":{\n",
      "                    \"failed\":0,\n",
      "                    \"successful\":1,\n",
      "                    \"total\":2\n",
      "                },\n",
      "                \"_type\":\"_doc\",\n",
      "                \"_version\":1,\n",
      "                \"result\":\"created\",\n",
      "                \"status\":201\n",
      "            }\n",
      "        },\n",
      "        {\n",
      "            \"create\":{\n",
      "                \"_id\":\"4\",\n",
      "                \"_index\":\"index_test\",\n",
      "                \"_primary_term\":1,\n",
      "                \"_seq_no\":7,\n",
      "                \"_shards\":{\n",
      "                    \"failed\":0,\n",
      "                    \"successful\":1,\n",
      "                    \"total\":2\n",
      "                },\n",
      "                \"_type\":\"_doc\",\n",
      "                \"_version\":1,\n",
      "                \"result\":\"created\",\n",
      "                \"status\":201\n",
      "            }\n",
      "        }\n",
      "    ],\n",
      "    \"took\":10\n",
      "}\n"
     ]
    }
   ],
   "source": [
    "res = es.bulk(index='index_test',  body=doc)\n",
    "json_print(res)"
   ]
  },
  {
   "cell_type": "code",
   "execution_count": 34,
   "metadata": {},
   "outputs": [],
   "source": []
  },
  {
   "cell_type": "markdown",
   "metadata": {},
   "source": [
    "# 4. 搜索操作"
   ]
  },
  {
   "cell_type": "markdown",
   "metadata": {},
   "source": [
    "## 仅以query DSL为例，其余类型"
   ]
  },
  {
   "cell_type": "code",
   "execution_count": 37,
   "metadata": {},
   "outputs": [],
   "source": [
    "query = {\n",
    "    \"query\": {\n",
    "    \"match\": {\n",
    "      \"name\": \"说唱\"\n",
    "    }\n",
    "  },\n",
    "    \"highlight\":{\n",
    "        \"fields\":{\n",
    "            \"name\":{}\n",
    "        }\n",
    "    }\n",
    "}"
   ]
  },
  {
   "cell_type": "code",
   "execution_count": 60,
   "metadata": {
    "tags": []
   },
   "outputs": [
    {
     "name": "stdout",
     "output_type": "stream",
     "text": [
      "{'took': 9, 'timed_out': False, '_shards': {'total': 1, 'successful': 1, 'skipped': 0, 'failed': 0}, 'hits': {'total': {'value': 17, 'relation': 'eq'}, 'max_score': 5.89508, 'hits': [{'_index': 'index_music', '_type': '_doc', '_id': '80', '_score': 5.89508, '_source': {'album_id': '7659734915', 'url': 'https://music.163.com/playlist?id=7659734915', 'name': '说唱情歌｜最怕Rapper说情话', 'author': '这条平凡的狗_QwQ', 'views': '45929', 'subscription': '286', 'label': '华语|流行|说唱', 'description': '介绍：\\n恋爱中的很多人的忠诚都是演的，所以他结婚了\\n\\n我永远不会辜负你，因为我要把你娶回家\\n\\n你说你想要浪漫，那我就拼了命给你制造\\n', 'amount': '69', 'nameofmusic': '着迷|所以你睡了没|粉色苏打|Darling|i adore u|靠近一点|噩梦|宝贝我不渣|丘比特|湖'}, 'highlight': {'name': ['<em>说</em><em>唱</em>情歌｜最怕Rapper<em>说</em>情话']}}, {'_index': 'index_music', '_type': '_doc', '_id': '77', '_score': 5.7539387, '_source': {'album_id': '7651196084', 'url': 'https://music.163.com/playlist?id=7651196084', 'name': '说唱派对 | emo走心励志伤感旋律中文说唱', 'author': '芳心收集人士', 'views': '235421', 'subscription': '1888', 'label': '华语|说唱|网络歌曲', 'description': '介绍：\\n歌单收录了各种风格的中文说唱，好歌又不是感冒灵，不一定要999+，带你发掘那些国产rapper的宝藏歌曲。\\n\\n科技感x未来感的宇宙战舰，邂逅浪漫无垠浩瀚星河，探索独一无二的行星跳跃，各位歌手将会踏上怎样的旅途呢？行星之旅即将出发，不要错过！\\n\\n喜欢歌单的可以收藏关注不迷路 好听到可以单曲循环 歌单持续更新中～\\n', 'amount': '116', 'nameofmusic': '变冷 (miss)|Serendipity（意外收获）|忏悔录|SMELLS LIKE LUV|艾丽|心动慢半拍|100|暴雨|黎明之前|红'}, 'highlight': {'name': ['<em>说</em><em>唱</em>派对 | emo走心励志伤感旋律中文<em>说</em><em>唱</em>']}}, {'_index': 'index_music', '_type': '_doc', '_id': '10', '_score': 5.1987114, '_source': {'album_id': '2701448439', 'url': 'https://music.163.com/playlist?id=2701448439', 'name': '中文说唱⭕众口难调', 'author': 'dingoXXL', 'views': '1229200', 'subscription': '13059', 'label': '说唱|华语|流行', 'description': '介绍：\\n不客观目录，喜欢就多听点，纯属个人喜好\\n', 'amount': '384', 'nameofmusic': '街头艺术家 Ghetto Artist|‘’我们从很早以前就没有故事了‘’|DAY1|Asian Doll|我不想|UP! (Prod.DirtySosa)|Panamera|HERO|香格里拉(Pord. beatsbyroki)|DirtySnow（Prod. Yvng Finxssa )'}, 'highlight': {'name': ['中文<em>说</em><em>唱</em>⭕众口难调']}}, {'_index': 'index_music', '_type': '_doc', '_id': '19', '_score': 5.1987114, '_source': {'album_id': '3119596483', 'url': 'https://music.163.com/playlist?id=3119596483', 'name': '中文说唱丨宝藏系列', 'author': 'Top嘉熙', 'views': '20988152', 'subscription': '120000', 'label': '华语|说唱|00后', 'description': '介绍：\\n接合作 MADE IN CHINA 中文说唱已崛起\\n', 'amount': '554', 'nameofmusic': '分不开的锁|Kidcudi remix|NUNA 2.0|Anxiety|My Fate|岸|说走就走|所以我只想对你说|是你|忏悔录'}, 'highlight': {'name': ['中文<em>说</em><em>唱</em>丨宝藏系列']}}, {'_index': 'index_music', '_type': '_doc', '_id': '100', '_score': 5.0843186, '_source': {'album_id': '7681439942', 'url': 'https://music.163.com/playlist?id=7681439942', 'name': '[说唱接力赛] Beat唱Flow合，场子加热有Cypher', 'author': '云音乐官方歌单', 'views': '218411', 'subscription': '853', 'label': '华语|说唱', 'description': '介绍：\\n说唱文化中的Cypher是指不同的rapper使用同一个Beat依次进行演唱的一种说唱形式，Beat就像一面等待被填满的涂鸦墙，任由rapper们用Flow和歌词绘出自己的个性色彩。\\n', 'amount': '64', 'nameofmusic': '芳草地|Freedom|豆浆油条|2021街燥办\"cypher prod by Red killer|宁夜制燥2021cypher|MANIA AGENT 2022 Cypher|奉天聚力 Cypher 2020|西部燥音cypher2020|Yellow Gang 2021 CYPHER|岳来岳狗 (Live)'}, 'highlight': {'name': ['[<em>说</em><em>唱</em>接力赛] Beat<em>唱</em>Flow合，场子加热有Cypher']}}, {'_index': 'index_music', '_type': '_doc', '_id': '50', '_score': 4.8578777, '_source': {'album_id': '7128137415', 'url': 'https://music.163.com/playlist?id=7128137415', 'name': '『艾丽』甜甜的旋律情歌说唱', 'author': '芳心收集人士', 'views': '28408', 'subscription': '255', 'label': '说唱|华语|流行', 'description': '介绍：\\n歌单收录目前最流行的中文说唱 带你领略中文说唱的魅力\\n\\n喜欢歌单的可以收藏关注不迷路 好听到可以单曲循环 歌单持续更新中～\\n', 'amount': '68', 'nameofmusic': '艾丽|狂恋|太多的爱（too much）|谁会被吻 (天气说变冷就变冷)|Serendipity（意外收获）|100|暴雨|就这样和你在一起|隆里电丝 (LIVE版)|BERRY'}, 'highlight': {'name': ['『艾丽』甜甜的旋律情歌<em>说</em><em>唱</em>']}}, {'_index': 'index_music', '_type': '_doc', '_id': '117', '_score': 4.8578777, '_source': {'album_id': '7741615787', 'url': 'https://music.163.com/playlist?id=7741615787', 'name': '中文说唱｜节奏中感受潮流', 'author': 'AdeeL丨', 'views': '31691', 'subscription': '196', 'label': '华语|说唱|运动', 'description': '介绍：\\n网易云音乐越来越支持中文说唱了\\n此歌单收录各种经典说唱^_^\\n持续更新（欢迎投稿，我不怎么了解说唱，大家可以提供宝贵意见\\n', 'amount': '61', 'nameofmusic': '隆里电丝 (LIVE版)|浪漫主义|One Two|高，还没富，但帅|Kill The Game|Hey Kong (Live)|奴隶|AYO！FEVER|戏精急诊室(ft.Lil Jet)|山羊'}, 'highlight': {'name': ['中文<em>说</em><em>唱</em>｜节奏中感受潮流']}}, {'_index': 'index_music', '_type': '_doc', '_id': '65', '_score': 4.4229183, '_source': {'album_id': '7625413468', 'url': 'https://music.163.com/playlist?id=7625413468', 'name': '[写词高手] 中文说唱里的神来之笔', 'author': '云音乐官方歌单', 'views': '850318', 'subscription': '3718', 'label': '华语|说唱', 'description': '介绍：\\n用Wordplay蕴藏深义，用灵感写出Punchline，中文说唱存在的意义在于把所见所听化为所想所做，用坚定有力的歌词，表达我们的态度，让更多人感受到中文说唱的力量。\\n', 'amount': '70', 'nameofmusic': '乡野传说|AnotheR|“S”|谭sir|年轻的国王们|怪圈（Part Two）|再一轮|潇洒|马医生|\"她\"'}, 'highlight': {'name': ['[写词高手] 中文<em>说</em><em>唱</em>里的神来之笔']}}, {'_index': 'index_music', '_type': '_doc', '_id': '79', '_score': 3.8485997, '_source': {'album_id': '7654967396', 'url': 'https://music.163.com/playlist?id=7654967396', 'name': '嘻哈说唱|搭乘嘻哈飞船 坠入浪漫的虚无主义', 'author': 'Just-7ccc', 'views': '31536', 'subscription': '243', 'label': '华语|说唱|R&B/Soul', 'description': '介绍：\\n把我偷走吧 浪漫的收藏家！！！\\n祝你，历遍山河，依然觉得人生值得。敬我，往后余生，水远山长安适如常！！！！！\\n感谢聆听！！！！！！！！\\n', 'amount': '153', 'nameofmusic': '谁会被吻 (天气说变冷就变冷)|忏悔录|隆里电丝 (LIVE版)|光的影子|别怕变老 (LIVE版)|NATASHA|老银|抽象画家|忏悔录|小河淌水1952'}, 'highlight': {'name': ['嘻哈<em>说</em><em>唱</em>|搭乘嘻哈飞船 坠入浪漫的虚无主义']}}, {'_index': 'index_music', '_type': '_doc', '_id': '55', '_score': 2.794173, '_source': {'album_id': '7525397914', 'url': 'https://music.163.com/playlist?id=7525397914', 'name': '[闽南语唱片行] 唱在嘴边，动情在心尖', 'author': '云音乐官方歌单', 'views': '944486', 'subscription': '3374', 'label': '华语|经典', 'description': '介绍：\\n闽南经典，劲歌载舞。回味经典，听爱情的愁苦，诉说对命运的不屈服，唱在嘴边，动情在心尖~\\n', 'amount': '30', 'nameofmusic': '半醉半清醒 (宿醉版)|酒夢|心爱的甭哭|褪色的恋情|舞女|讲什么山盟海誓|世界第一等|无人来作伴|算命|何日君再来'}, 'highlight': {'name': ['[闽南语<em>唱</em>片行] <em>唱</em>在嘴边，动情在心尖']}}]}}\n"
     ]
    },
    {
     "name": "stderr",
     "output_type": "stream",
     "text": [
      "C:\\Users\\BR\\AppData\\Local\\Temp/ipykernel_12284/2869991905.py:1: DeprecationWarning: The 'body' parameter is deprecated for the 'search' API and will be removed in a future version. Instead use API parameters directly. See https://github.com/elastic/elasticsearch-py/issues/1698 for more information\n",
      "  result = es.search(index=\"index_music\", body=query)\n"
     ]
    }
   ],
   "source": [
    "result = es.search(index=\"index_music\", body=query)\n",
    "print(result)"
   ]
  },
  {
   "cell_type": "code",
   "execution_count": null,
   "metadata": {},
   "outputs": [],
   "source": []
  },
  {
   "cell_type": "code",
   "execution_count": 171,
   "metadata": {},
   "outputs": [
    {
     "name": "stdout",
     "output_type": "stream",
     "text": [
      "{'count': 10023, '_shards': {'total': 5, 'successful': 5, 'skipped': 0, 'failed': 0}}\n"
     ]
    }
   ],
   "source": [
    "cnt = es.count()\n",
    "print((cnt))"
   ]
  },
  {
   "cell_type": "code",
   "execution_count": 58,
   "metadata": {},
   "outputs": [],
   "source": [
    "def query_by_name(name):\n",
    "    query_name = {\n",
    "        \"query\": {\n",
    "        \"match\": {\n",
    "          \"name\": name\n",
    "        }\n",
    "      },\n",
    "        \"highlight\":{\n",
    "            \"fields\":{\n",
    "                \"name\":{}\n",
    "            }\n",
    "        }\n",
    "    }\n",
    "    result = es.search(index=\"index_music\", body=query_name)\n",
    "    print(result)\n"
   ]
  },
  {
   "cell_type": "code",
   "execution_count": 42,
   "metadata": {},
   "outputs": [],
   "source": [
    "def query_by_author(author):\n",
    "    query_title = {\n",
    "        \"query\": {\n",
    "        \"match\": {\n",
    "          \"author\": author\n",
    "        }\n",
    "      },\n",
    "        \"highlight\":{\n",
    "            \"fields\":{\n",
    "                \"authors\":{}\n",
    "            }\n",
    "        }\n",
    "    }\n",
    "    result = es.search(index=\"index_music\", body=query_title)\n",
    "    print(result)"
   ]
  },
  {
   "cell_type": "code",
   "execution_count": 62,
   "metadata": {},
   "outputs": [],
   "source": [
    "def query_by_label(label):\n",
    "    query_label = {\n",
    "        \"query\": {\n",
    "        \"match\": {\n",
    "          \"label\": label\n",
    "        }\n",
    "      },\n",
    "        \"highlight\":{\n",
    "            \"fields\":{\n",
    "                \"label\":{}\n",
    "            }\n",
    "        }\n",
    "    }\n",
    "    result = es.search(index=\"index_music\", body=query_label)\n",
    "    print(result)"
   ]
  },
  {
   "cell_type": "code",
   "execution_count": 61,
   "metadata": {},
   "outputs": [],
   "source": [
    "def query_by_nameofmusic(nameofmusic):\n",
    "    query_nameofmusic = {\n",
    "        \"query\": {\n",
    "        \"match\": {\n",
    "          \"nameofmusic\": nameofmusic\n",
    "        }\n",
    "      },\n",
    "        \"highlight\":{\n",
    "            \"fields\":{\n",
    "                \"nameofmusic\":{}\n",
    "            }\n",
    "        }\n",
    "    }\n",
    "    result = es.search(index=\"index_music\", body=query_nameofmusic)\n",
    "    print(result)"
   ]
  },
  {
   "cell_type": "code",
   "execution_count": 65,
   "metadata": {},
   "outputs": [
    {
     "name": "stdout",
     "output_type": "stream",
     "text": [
      "please select the type you want to search for: 1. name 2. author 3. label 4. name of music2\n",
      "Please enter the author云\n",
      "{'took': 0, 'timed_out': False, '_shards': {'total': 1, 'successful': 1, 'skipped': 0, 'failed': 0}, 'hits': {'total': {'value': 0, 'relation': 'eq'}, 'max_score': None, 'hits': []}}\n"
     ]
    }
   ],
   "source": [
    "if __name__ == '__main__':\n",
    "    method = input(\"please select the type you want to search for: 1. name 2. author 3. label 4. name of music\")\n",
    "    if method==\"1\":\n",
    "        name = input(\"Please enter the name\")\n",
    "        query_by_name(name)\n",
    "    elif method==\"2\":\n",
    "        author = input(\"Please enter the author\")\n",
    "        query_by_author(author)\n",
    "    elif method==\"3\":\n",
    "        label = input(\"Please enter the label\")\n",
    "        query_by_label(label)\n",
    "    elif method==\"4\":\n",
    "        nameofmusic = input(\"Please enter the name of music\")\n",
    "        query_by_nameofmusic(nameofmusic)\n"
   ]
  },
  {
   "cell_type": "code",
   "execution_count": null,
   "metadata": {},
   "outputs": [],
   "source": []
  },
  {
   "cell_type": "code",
   "execution_count": null,
   "metadata": {},
   "outputs": [],
   "source": []
  },
  {
   "cell_type": "code",
   "execution_count": null,
   "metadata": {},
   "outputs": [],
   "source": []
  },
  {
   "cell_type": "code",
   "execution_count": null,
   "metadata": {},
   "outputs": [],
   "source": []
  },
  {
   "cell_type": "code",
   "execution_count": null,
   "metadata": {},
   "outputs": [],
   "source": []
  }
 ],
 "metadata": {
  "kernelspec": {
   "display_name": "Python 3 (ipykernel)",
   "language": "python",
   "name": "python3"
  },
  "language_info": {
   "codemirror_mode": {
    "name": "ipython",
    "version": 3
   },
   "file_extension": ".py",
   "mimetype": "text/x-python",
   "name": "python",
   "nbconvert_exporter": "python",
   "pygments_lexer": "ipython3",
   "version": "3.10.8"
  },
  "vscode": {
   "interpreter": {
    "hash": "b0f75724ea5d338ca3e2646aa3cb8f9b450d5bbfbf54ea51bce7590191233605"
   }
  }
 },
 "nbformat": 4,
 "nbformat_minor": 4
}
